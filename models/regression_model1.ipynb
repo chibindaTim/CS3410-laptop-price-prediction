{
 "cells": [
  {
   "cell_type": "code",
   "execution_count": null,
   "id": "efbe22d5",
   "metadata": {},
   "outputs": [],
   "source": [
    "#Use Decision Tree Regressor"
   ]
  }
 ],
 "metadata": {
  "language_info": {
   "name": "python"
  }
 },
 "nbformat": 4,
 "nbformat_minor": 5
}
